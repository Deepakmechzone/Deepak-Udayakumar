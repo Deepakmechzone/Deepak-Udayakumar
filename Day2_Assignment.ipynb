{
  "nbformat": 4,
  "nbformat_minor": 0,
  "metadata": {
    "colab": {
      "name": "Day2_Assignment.ipynb",
      "provenance": [],
      "collapsed_sections": [],
      "authorship_tag": "ABX9TyPjKox3HM1Z6ICr9DexvIxA",
      "include_colab_link": true
    },
    "kernelspec": {
      "name": "python3",
      "display_name": "Python 3"
    },
    "language_info": {
      "name": "python"
    }
  },
  "cells": [
    {
      "cell_type": "markdown",
      "metadata": {
        "id": "view-in-github",
        "colab_type": "text"
      },
      "source": [
        "<a href=\"https://colab.research.google.com/github/Deepakmechzone/Deepak-Udayakumar/blob/main/Day2_Assignment.ipynb\" target=\"_parent\"><img src=\"https://colab.research.google.com/assets/colab-badge.svg\" alt=\"Open In Colab\"/></a>"
      ]
    },
    {
      "cell_type": "code",
      "metadata": {
        "colab": {
          "base_uri": "https://localhost:8080/"
        },
        "id": "G770QHUXrVFj",
        "outputId": "5851a3ec-3d3e-4a5f-a4a9-0697edac09ff"
      },
      "source": [
        "s = [\"b\", \"a\", \"a\", \"c\", \"b\", \"a\", \"c\",'a']\n",
        "L = {}\n",
        "for i in s:\n",
        "  L[i]=s.count(i)\n",
        "print(L)"
      ],
      "execution_count": 66,
      "outputs": [
        {
          "output_type": "stream",
          "text": [
            "{'b': 2, 'a': 4, 'c': 2}\n"
          ],
          "name": "stdout"
        }
      ]
    }
  ]
}