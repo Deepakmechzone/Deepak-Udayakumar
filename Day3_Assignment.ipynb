{
  "nbformat": 4,
  "nbformat_minor": 0,
  "metadata": {
    "colab": {
      "name": "Day3_Assignment.ipynb",
      "provenance": [],
      "collapsed_sections": [],
      "authorship_tag": "ABX9TyM+X4R12bcnDdJ2wfcZcYJh",
      "include_colab_link": true
    },
    "kernelspec": {
      "name": "python3",
      "display_name": "Python 3"
    },
    "language_info": {
      "name": "python"
    }
  },
  "cells": [
    {
      "cell_type": "markdown",
      "metadata": {
        "id": "view-in-github",
        "colab_type": "text"
      },
      "source": [
        "<a href=\"https://colab.research.google.com/github/Deepakmechzone/Deepak-Udayakumar/blob/main/Day3_Assignment.ipynb\" target=\"_parent\"><img src=\"https://colab.research.google.com/assets/colab-badge.svg\" alt=\"Open In Colab\"/></a>"
      ]
    },
    {
      "cell_type": "code",
      "metadata": {
        "colab": {
          "base_uri": "https://localhost:8080/"
        },
        "id": "J4jUFNQoKhei",
        "outputId": "f845b4ca-a79c-4578-8f30-ca5f400d07e5"
      },
      "source": [
        "import random\n",
        "import string\n",
        "id =''\n",
        "characters_list = list(string.ascii_letters + string.digits)\n",
        "for i in range(6):\n",
        "  id += random.choice(characters_list)\n",
        "\n",
        "\n",
        "print(id)"
      ],
      "execution_count": 10,
      "outputs": [
        {
          "output_type": "stream",
          "text": [
            "g1aSI4\n"
          ],
          "name": "stdout"
        }
      ]
    },
    {
      "cell_type": "code",
      "metadata": {
        "id": "ouRLNbTOMNR_"
      },
      "source": [
        ""
      ],
      "execution_count": null,
      "outputs": []
    },
    {
      "cell_type": "code",
      "metadata": {
        "colab": {
          "base_uri": "https://localhost:8080/"
        },
        "id": "m0p_xrO9WwRU",
        "outputId": "fe3a637b-2e9c-4c95-bdb4-cfd5df579340"
      },
      "source": [
        "def mod_div(fun):\n",
        "  def inner(a, b):\n",
        "    if a < b:\n",
        "      a, b = b, a\n",
        "    fun(a, b)   \n",
        "\n",
        "  return inner\n",
        "\n",
        "@mod_div\n",
        "def sub(a, b):\n",
        "  print(a / b)\n",
        "\n",
        "sub(2, 4)"
      ],
      "execution_count": 12,
      "outputs": [
        {
          "output_type": "stream",
          "text": [
            "2.0\n"
          ],
          "name": "stdout"
        }
      ]
    }
  ]
}